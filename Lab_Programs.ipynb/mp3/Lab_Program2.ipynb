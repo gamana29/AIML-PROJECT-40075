{
  "nbformat": 4,
  "nbformat_minor": 0,
  "metadata": {
    "colab": {
      "provenance": []
    },
    "kernelspec": {
      "name": "python3",
      "display_name": "Python 3"
    },
    "language_info": {
      "name": "python"
    }
  },
  "cells": [
    {
      "cell_type": "markdown",
      "source": [
        "MAP COLORING"
      ],
      "metadata": {
        "id": "5yOIUsONCipd"
      }
    },
    {
      "cell_type": "code",
      "execution_count": null,
      "metadata": {
        "colab": {
          "base_uri": "https://localhost:8080/"
        },
        "id": "ZuT73npFQpWC",
        "outputId": "818ead2a-f9bc-4a31-b6c3-fea9f3692aa7"
      },
      "outputs": [
        {
          "output_type": "stream",
          "name": "stdout",
          "text": [
            "Map Coloring Solution:\n",
            "Region A: Red\n",
            "Region B: Green\n",
            "Region C: Blue\n",
            "Region D: Green\n",
            "Region E: Red\n"
          ]
        }
      ],
      "source": [
        "# Define the graph (map) with its regions and their connections\n",
        "graph = {\n",
        "    'A': ['B', 'C', 'D'],\n",
        "    'B': ['A', 'C', 'E'],\n",
        "    'C': ['A', 'B', 'D', 'E'],\n",
        "    'D': ['A', 'C', 'E'],\n",
        "    'E': ['B', 'C', 'D']\n",
        "}\n",
        "\n",
        "# Define the colors available\n",
        "colors = ['Red', 'Green', 'Blue', 'Yellow']\n",
        "\n",
        "# Function to check if the current color assignment is safe\n",
        "def is_safe(node, color, assignment):\n",
        "    for neighbor in graph[node]:\n",
        "        if neighbor in assignment and assignment[neighbor] == color:\n",
        "            return False\n",
        "    return True\n",
        "\n",
        "# Backtracking function to solve the map coloring problem\n",
        "def map_coloring(node, assignment):\n",
        "    # If all nodes are assigned a color, return True\n",
        "    if len(assignment) == len(graph):\n",
        "        return True\n",
        "\n",
        "    # Try different colors for the current node\n",
        "    for color in colors:\n",
        "        if is_safe(node, color, assignment):\n",
        "            assignment[node] = color\n",
        "\n",
        "            # Find the next uncolored node\n",
        "            uncolored_nodes = [n for n in graph if n not in assignment]\n",
        "\n",
        "            if not uncolored_nodes or map_coloring(uncolored_nodes[0], assignment):\n",
        "                return True\n",
        "\n",
        "            # If assigning this color doesn't lead to a solution, backtrack\n",
        "            del assignment[node]\n",
        "\n",
        "    return False\n",
        "\n",
        "# Main function to solve the map coloring problem\n",
        "def solve_map_coloring():\n",
        "    assignment = {}\n",
        "    start_node = list(graph.keys())[0]\n",
        "    if map_coloring(start_node, assignment):\n",
        "        return assignment\n",
        "    else:\n",
        "        return \"No solution found.\"\n",
        "\n",
        "# Run the map coloring solver\n",
        "solution = solve_map_coloring()\n",
        "print(\"Map Coloring Solution:\")\n",
        "for region, color in solution.items():\n",
        "    print(f\"Region {region}: {color}\")\n"
      ]
    }
  ]
}